{
 "cells": [
  {
   "cell_type": "code",
   "execution_count": 2,
   "id": "13765487-1cb3-4501-9e3f-07bad1b11063",
   "metadata": {},
   "outputs": [
    {
     "data": {
      "text/plain": [
       "123123123"
      ]
     },
     "execution_count": 2,
     "metadata": {},
     "output_type": "execute_result"
    }
   ],
   "source": [
    "123123123"
   ]
  },
  {
   "cell_type": "code",
   "execution_count": 3,
   "id": "dd778227-061a-48c9-af96-117f7c15f64c",
   "metadata": {},
   "outputs": [
    {
     "data": {
      "text/plain": [
       "123123123"
      ]
     },
     "execution_count": 3,
     "metadata": {},
     "output_type": "execute_result"
    }
   ],
   "source": [
    "123_123_123"
   ]
  },
  {
   "cell_type": "code",
   "execution_count": 4,
   "id": "8bd73517-a902-41bf-a738-369c9c24c70b",
   "metadata": {},
   "outputs": [
    {
     "data": {
      "text/plain": [
       "1234"
      ]
     },
     "execution_count": 4,
     "metadata": {},
     "output_type": "execute_result"
    }
   ],
   "source": [
    "1_234"
   ]
  },
  {
   "cell_type": "code",
   "execution_count": 5,
   "id": "27593a30-7ebd-462f-8219-dea8fec4b4e8",
   "metadata": {},
   "outputs": [
    {
     "data": {
      "text/plain": [
       "['col1', 'col2', 'col3']"
      ]
     },
     "execution_count": 5,
     "metadata": {},
     "output_type": "execute_result"
    }
   ],
   "source": [
    "[\"col1\", \"col2\", \"col3\"]"
   ]
  },
  {
   "cell_type": "code",
   "execution_count": 6,
   "id": "a910189a-1497-4db5-b192-1b58e1b66b57",
   "metadata": {},
   "outputs": [
    {
     "data": {
      "text/plain": [
       "['col1', 'col2', 'col3']"
      ]
     },
     "execution_count": 6,
     "metadata": {},
     "output_type": "execute_result"
    }
   ],
   "source": [
    "[\"col1\", \"col2\", \"col3\",]"
   ]
  },
  {
   "cell_type": "code",
   "execution_count": 7,
   "id": "be16da99-a282-45a4-9db7-4cb0e8ab34e6",
   "metadata": {},
   "outputs": [
    {
     "data": {
      "text/plain": [
       "['col1', 'col2', 'col3']"
      ]
     },
     "execution_count": 7,
     "metadata": {},
     "output_type": "execute_result"
    }
   ],
   "source": [
    "[\"col1\",\n",
    " \"col2\",\n",
    " \"col3\",\n",
    "]"
   ]
  },
  {
   "cell_type": "code",
   "execution_count": 8,
   "id": "78367b82-7b9f-4ef3-b3d7-d352f359261d",
   "metadata": {},
   "outputs": [
    {
     "data": {
      "text/plain": [
       "['col1', 'col3']"
      ]
     },
     "execution_count": 8,
     "metadata": {},
     "output_type": "execute_result"
    }
   ],
   "source": [
    "[\"col1\",\n",
    " #\"col2\",\n",
    " \"col3\",\n",
    "]"
   ]
  },
  {
   "cell_type": "code",
   "execution_count": 11,
   "id": "c5e5609b-4610-4db9-bf78-e25907c30fd0",
   "metadata": {},
   "outputs": [
    {
     "data": {
      "text/plain": [
       "['col1', 'col2']"
      ]
     },
     "execution_count": 11,
     "metadata": {},
     "output_type": "execute_result"
    }
   ],
   "source": [
    "[\"col1\",\n",
    " \"col2\",\n",
    " #\"col3\",\n",
    "]"
   ]
  },
  {
   "cell_type": "code",
   "execution_count": null,
   "id": "7b55b9b5-61a6-4f90-a03d-d3e60afdbc4a",
   "metadata": {},
   "outputs": [],
   "source": []
  }
 ],
 "metadata": {
  "kernelspec": {
   "display_name": "Python 3 (ipykernel)",
   "language": "python",
   "name": "python3"
  },
  "language_info": {
   "codemirror_mode": {
    "name": "ipython",
    "version": 3
   },
   "file_extension": ".py",
   "mimetype": "text/x-python",
   "name": "python",
   "nbconvert_exporter": "python",
   "pygments_lexer": "ipython3",
   "version": "3.9.13"
  }
 },
 "nbformat": 4,
 "nbformat_minor": 5
}
